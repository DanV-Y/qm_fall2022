{
 "cells": [
  {
   "cell_type": "markdown",
   "id": "ae5d1ab6-eaf0-4cbd-b3ee-502b6f413eed",
   "metadata": {},
   "source": [
    "# PHYS602: Quantum Mechanics\n",
    "\n",
    "## Fall 2022\n",
    "\n",
    "### Yachay Tech University"
   ]
  },
  {
   "cell_type": "code",
   "execution_count": null,
   "id": "01693d2c-9007-44c8-96f0-9402d22452c7",
   "metadata": {},
   "outputs": [],
   "source": []
  }
 ],
 "metadata": {
  "kernelspec": {
   "display_name": "Python 3 (ipykernel)",
   "language": "python",
   "name": "python3"
  },
  "language_info": {
   "codemirror_mode": {
    "name": "ipython",
    "version": 3
   },
   "file_extension": ".py",
   "mimetype": "text/x-python",
   "name": "python",
   "nbconvert_exporter": "python",
   "pygments_lexer": "ipython3",
   "version": "3.9.12"
  }
 },
 "nbformat": 4,
 "nbformat_minor": 5
}
